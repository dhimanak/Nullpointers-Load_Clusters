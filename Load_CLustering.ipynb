{
 "cells": [
  {
   "cell_type": "code",
   "execution_count": 1,
   "metadata": {},
   "outputs": [],
   "source": [
    "import pandas as pd\n",
    "import numpy as np\n",
    "import csv\n",
    "from datetime import datetime\n",
    "from dateutil import parser\n",
    "from sklearn import preprocessing\n",
    "import matplotlib.pyplot as plt "
   ]
  },
  {
   "cell_type": "code",
   "execution_count": 2,
   "metadata": {},
   "outputs": [],
   "source": [
    "dataset = pd.read_csv(\"/Users/smph/Desktop/dataScience/project/daily_electricity_usage.csv\", parse_dates=[\"date\"],index_col=1)\n",
    "#dataset = pd.read_csv(\"/Users/smph/Desktop/dataScience/project/daily_electricity_usage.csv\")\n",
    "#dataset['date'] = pd.to_datetime(dataset['date'])"
   ]
  },
  {
   "cell_type": "code",
   "execution_count": 3,
   "metadata": {},
   "outputs": [
    {
     "data": {
      "text/html": [
       "<div>\n",
       "<style scoped>\n",
       "    .dataframe tbody tr th:only-of-type {\n",
       "        vertical-align: middle;\n",
       "    }\n",
       "\n",
       "    .dataframe tbody tr th {\n",
       "        vertical-align: top;\n",
       "    }\n",
       "\n",
       "    .dataframe thead th {\n",
       "        text-align: right;\n",
       "    }\n",
       "</style>\n",
       "<table border=\"1\" class=\"dataframe\">\n",
       "  <thead>\n",
       "    <tr style=\"text-align: right;\">\n",
       "      <th></th>\n",
       "      <th>Meter ID</th>\n",
       "      <th>total daily KW</th>\n",
       "    </tr>\n",
       "    <tr>\n",
       "      <th>date</th>\n",
       "      <th></th>\n",
       "      <th></th>\n",
       "    </tr>\n",
       "  </thead>\n",
       "  <tbody>\n",
       "    <tr>\n",
       "      <th>2009-07-14</th>\n",
       "      <td>1000</td>\n",
       "      <td>11.203</td>\n",
       "    </tr>\n",
       "    <tr>\n",
       "      <th>2009-07-15</th>\n",
       "      <td>1000</td>\n",
       "      <td>8.403</td>\n",
       "    </tr>\n",
       "    <tr>\n",
       "      <th>2009-07-16</th>\n",
       "      <td>1000</td>\n",
       "      <td>7.225</td>\n",
       "    </tr>\n",
       "    <tr>\n",
       "      <th>2009-07-17</th>\n",
       "      <td>1000</td>\n",
       "      <td>11.338</td>\n",
       "    </tr>\n",
       "    <tr>\n",
       "      <th>2009-07-18</th>\n",
       "      <td>1000</td>\n",
       "      <td>11.306</td>\n",
       "    </tr>\n",
       "  </tbody>\n",
       "</table>\n",
       "</div>"
      ],
      "text/plain": [
       "            Meter ID  total daily KW\n",
       "date                                \n",
       "2009-07-14      1000          11.203\n",
       "2009-07-15      1000           8.403\n",
       "2009-07-16      1000           7.225\n",
       "2009-07-17      1000          11.338\n",
       "2009-07-18      1000          11.306"
      ]
     },
     "execution_count": 3,
     "metadata": {},
     "output_type": "execute_result"
    }
   ],
   "source": [
    "dataset.head(5)"
   ]
  },
  {
   "cell_type": "code",
   "execution_count": null,
   "metadata": {},
   "outputs": [],
   "source": []
  },
  {
   "cell_type": "code",
   "execution_count": 13,
   "metadata": {},
   "outputs": [],
   "source": [
    "#getting the range\n",
    "rng = pd.date_range('2009-07-14',periods=536,freq='D')"
   ]
  },
  {
   "cell_type": "code",
   "execution_count": 5,
   "metadata": {},
   "outputs": [],
   "source": [
    "#making new dataFrame for new storage\n",
    "new_data = pd.DataFrame({'date':rng}).set_index('date')"
   ]
  },
  {
   "cell_type": "code",
   "execution_count": 6,
   "metadata": {},
   "outputs": [],
   "source": [
    "#splitting the data and grouping by customers\n",
    "for i in range(1000,7445):\n",
    "    x=dataset[dataset['Meter ID']==i][['total daily KW']]\n",
    "    new_data=pd.merge(new_data,x, how = \"outer\", left_index=True, right_index=True)\n"
   ]
  },
  {
   "cell_type": "code",
   "execution_count": 9,
   "metadata": {},
   "outputs": [],
   "source": [
    "#changing column names\n",
    "for i in range(0,6445):\n",
    "    new_data.columns.values[i]=\"ID\"+str(1000+i)"
   ]
  },
  {
   "cell_type": "code",
   "execution_count": 11,
   "metadata": {},
   "outputs": [
    {
     "data": {
      "text/html": [
       "<div>\n",
       "<style scoped>\n",
       "    .dataframe tbody tr th:only-of-type {\n",
       "        vertical-align: middle;\n",
       "    }\n",
       "\n",
       "    .dataframe tbody tr th {\n",
       "        vertical-align: top;\n",
       "    }\n",
       "\n",
       "    .dataframe thead th {\n",
       "        text-align: right;\n",
       "    }\n",
       "</style>\n",
       "<table border=\"1\" class=\"dataframe\">\n",
       "  <thead>\n",
       "    <tr style=\"text-align: right;\">\n",
       "      <th></th>\n",
       "      <th>ID1000</th>\n",
       "      <th>ID1001</th>\n",
       "      <th>ID1002</th>\n",
       "      <th>ID1003</th>\n",
       "      <th>ID1004</th>\n",
       "      <th>ID1005</th>\n",
       "      <th>ID1006</th>\n",
       "      <th>ID1007</th>\n",
       "      <th>ID1008</th>\n",
       "      <th>ID1009</th>\n",
       "      <th>...</th>\n",
       "      <th>ID7435</th>\n",
       "      <th>ID7436</th>\n",
       "      <th>ID7437</th>\n",
       "      <th>ID7438</th>\n",
       "      <th>ID7439</th>\n",
       "      <th>ID7440</th>\n",
       "      <th>ID7441</th>\n",
       "      <th>ID7442</th>\n",
       "      <th>ID7443</th>\n",
       "      <th>ID7444</th>\n",
       "    </tr>\n",
       "    <tr>\n",
       "      <th>date</th>\n",
       "      <th></th>\n",
       "      <th></th>\n",
       "      <th></th>\n",
       "      <th></th>\n",
       "      <th></th>\n",
       "      <th></th>\n",
       "      <th></th>\n",
       "      <th></th>\n",
       "      <th></th>\n",
       "      <th></th>\n",
       "      <th></th>\n",
       "      <th></th>\n",
       "      <th></th>\n",
       "      <th></th>\n",
       "      <th></th>\n",
       "      <th></th>\n",
       "      <th></th>\n",
       "      <th></th>\n",
       "      <th></th>\n",
       "      <th></th>\n",
       "      <th></th>\n",
       "    </tr>\n",
       "  </thead>\n",
       "  <tbody>\n",
       "    <tr>\n",
       "      <th>2009-07-14</th>\n",
       "      <td>11.203</td>\n",
       "      <td>6.744</td>\n",
       "      <td>6.355</td>\n",
       "      <td>24.183</td>\n",
       "      <td>50.057</td>\n",
       "      <td>17.765</td>\n",
       "      <td>12.056</td>\n",
       "      <td>30.399</td>\n",
       "      <td>27.217</td>\n",
       "      <td>51.865</td>\n",
       "      <td>...</td>\n",
       "      <td>15.643</td>\n",
       "      <td>36.500</td>\n",
       "      <td>15.346</td>\n",
       "      <td>0.732</td>\n",
       "      <td>138.130</td>\n",
       "      <td>41.813</td>\n",
       "      <td>14.491</td>\n",
       "      <td>36.813</td>\n",
       "      <td>5.112</td>\n",
       "      <td>52.940</td>\n",
       "    </tr>\n",
       "    <tr>\n",
       "      <th>2009-07-15</th>\n",
       "      <td>8.403</td>\n",
       "      <td>6.949</td>\n",
       "      <td>8.972</td>\n",
       "      <td>26.659</td>\n",
       "      <td>48.813</td>\n",
       "      <td>19.801</td>\n",
       "      <td>17.169</td>\n",
       "      <td>23.976</td>\n",
       "      <td>31.996</td>\n",
       "      <td>42.740</td>\n",
       "      <td>...</td>\n",
       "      <td>14.667</td>\n",
       "      <td>29.443</td>\n",
       "      <td>26.156</td>\n",
       "      <td>0.685</td>\n",
       "      <td>115.893</td>\n",
       "      <td>31.572</td>\n",
       "      <td>12.597</td>\n",
       "      <td>40.492</td>\n",
       "      <td>18.233</td>\n",
       "      <td>35.582</td>\n",
       "    </tr>\n",
       "    <tr>\n",
       "      <th>2009-07-16</th>\n",
       "      <td>7.225</td>\n",
       "      <td>7.255</td>\n",
       "      <td>8.794</td>\n",
       "      <td>32.017</td>\n",
       "      <td>32.555</td>\n",
       "      <td>15.216</td>\n",
       "      <td>16.260</td>\n",
       "      <td>34.534</td>\n",
       "      <td>24.363</td>\n",
       "      <td>56.390</td>\n",
       "      <td>...</td>\n",
       "      <td>18.037</td>\n",
       "      <td>28.786</td>\n",
       "      <td>23.945</td>\n",
       "      <td>0.707</td>\n",
       "      <td>127.698</td>\n",
       "      <td>32.618</td>\n",
       "      <td>15.816</td>\n",
       "      <td>41.487</td>\n",
       "      <td>6.925</td>\n",
       "      <td>29.307</td>\n",
       "    </tr>\n",
       "    <tr>\n",
       "      <th>2009-07-17</th>\n",
       "      <td>11.338</td>\n",
       "      <td>7.190</td>\n",
       "      <td>8.306</td>\n",
       "      <td>33.032</td>\n",
       "      <td>46.727</td>\n",
       "      <td>23.418</td>\n",
       "      <td>14.813</td>\n",
       "      <td>19.251</td>\n",
       "      <td>23.122</td>\n",
       "      <td>43.604</td>\n",
       "      <td>...</td>\n",
       "      <td>11.512</td>\n",
       "      <td>31.394</td>\n",
       "      <td>23.118</td>\n",
       "      <td>0.655</td>\n",
       "      <td>142.211</td>\n",
       "      <td>36.614</td>\n",
       "      <td>13.162</td>\n",
       "      <td>43.986</td>\n",
       "      <td>5.370</td>\n",
       "      <td>40.986</td>\n",
       "    </tr>\n",
       "    <tr>\n",
       "      <th>2009-07-18</th>\n",
       "      <td>11.306</td>\n",
       "      <td>6.805</td>\n",
       "      <td>10.119</td>\n",
       "      <td>31.238</td>\n",
       "      <td>35.215</td>\n",
       "      <td>29.392</td>\n",
       "      <td>12.325</td>\n",
       "      <td>21.392</td>\n",
       "      <td>25.721</td>\n",
       "      <td>41.581</td>\n",
       "      <td>...</td>\n",
       "      <td>30.767</td>\n",
       "      <td>22.112</td>\n",
       "      <td>15.582</td>\n",
       "      <td>0.682</td>\n",
       "      <td>4.641</td>\n",
       "      <td>27.982</td>\n",
       "      <td>13.301</td>\n",
       "      <td>41.018</td>\n",
       "      <td>6.751</td>\n",
       "      <td>40.270</td>\n",
       "    </tr>\n",
       "  </tbody>\n",
       "</table>\n",
       "<p>5 rows × 6445 columns</p>\n",
       "</div>"
      ],
      "text/plain": [
       "            ID1000  ID1001  ID1002  ID1003  ID1004  ID1005  ID1006  ID1007  \\\n",
       "date                                                                         \n",
       "2009-07-14  11.203   6.744   6.355  24.183  50.057  17.765  12.056  30.399   \n",
       "2009-07-15   8.403   6.949   8.972  26.659  48.813  19.801  17.169  23.976   \n",
       "2009-07-16   7.225   7.255   8.794  32.017  32.555  15.216  16.260  34.534   \n",
       "2009-07-17  11.338   7.190   8.306  33.032  46.727  23.418  14.813  19.251   \n",
       "2009-07-18  11.306   6.805  10.119  31.238  35.215  29.392  12.325  21.392   \n",
       "\n",
       "            ID1008  ID1009   ...    ID7435  ID7436  ID7437  ID7438   ID7439  \\\n",
       "date                         ...                                              \n",
       "2009-07-14  27.217  51.865   ...    15.643  36.500  15.346   0.732  138.130   \n",
       "2009-07-15  31.996  42.740   ...    14.667  29.443  26.156   0.685  115.893   \n",
       "2009-07-16  24.363  56.390   ...    18.037  28.786  23.945   0.707  127.698   \n",
       "2009-07-17  23.122  43.604   ...    11.512  31.394  23.118   0.655  142.211   \n",
       "2009-07-18  25.721  41.581   ...    30.767  22.112  15.582   0.682    4.641   \n",
       "\n",
       "            ID7440  ID7441  ID7442  ID7443  ID7444  \n",
       "date                                                \n",
       "2009-07-14  41.813  14.491  36.813   5.112  52.940  \n",
       "2009-07-15  31.572  12.597  40.492  18.233  35.582  \n",
       "2009-07-16  32.618  15.816  41.487   6.925  29.307  \n",
       "2009-07-17  36.614  13.162  43.986   5.370  40.986  \n",
       "2009-07-18  27.982  13.301  41.018   6.751  40.270  \n",
       "\n",
       "[5 rows x 6445 columns]"
      ]
     },
     "execution_count": 11,
     "metadata": {},
     "output_type": "execute_result"
    }
   ],
   "source": [
    "#getting samples\n",
    "new_data.head(5)"
   ]
  },
  {
   "cell_type": "code",
   "execution_count": 12,
   "metadata": {},
   "outputs": [
    {
     "name": "stdout",
     "output_type": "stream",
     "text": [
      "<class 'pandas.core.frame.DataFrame'>\n",
      "DatetimeIndex: 536 entries, 2009-07-14 to 2010-12-31\n",
      "Columns: 6445 entries, ID1000 to ID7444\n",
      "dtypes: float64(6445)\n",
      "memory usage: 26.4 MB\n"
     ]
    }
   ],
   "source": [
    "#getting information about the data\n",
    "new_data.info()"
   ]
  },
  {
   "cell_type": "code",
   "execution_count": 15,
   "metadata": {},
   "outputs": [],
   "source": [
    "#filling missing values with its mean\n",
    "new_data = new_data.fillna(new_data.mean())"
   ]
  },
  {
   "cell_type": "markdown",
   "metadata": {},
   "source": []
  },
  {
   "cell_type": "code",
   "execution_count": 45,
   "metadata": {},
   "outputs": [
    {
     "ename": "TypeError",
     "evalue": "'numpy.ndarray' object is not callable",
     "output_type": "error",
     "traceback": [
      "\u001b[0;31m---------------------------------------------------------------------------\u001b[0m",
      "\u001b[0;31mTypeError\u001b[0m                                 Traceback (most recent call last)",
      "\u001b[0;32m<ipython-input-45-c75594d3b28d>\u001b[0m in \u001b[0;36m<module>\u001b[0;34m()\u001b[0m\n\u001b[0;32m----> 1\u001b[0;31m \u001b[0mnew_data\u001b[0m\u001b[0;34m.\u001b[0m\u001b[0mindex\u001b[0m\u001b[0;34m[\u001b[0m\u001b[0;36m0\u001b[0m\u001b[0;34m:\u001b[0m\u001b[0;34m-\u001b[0m\u001b[0;36m1\u001b[0m\u001b[0;34m]\u001b[0m\u001b[0;34m.\u001b[0m\u001b[0mvalues\u001b[0m\u001b[0;34m(\u001b[0m\u001b[0;34m)\u001b[0m\u001b[0;34m\u001b[0m\u001b[0m\n\u001b[0m",
      "\u001b[0;31mTypeError\u001b[0m: 'numpy.ndarray' object is not callable"
     ]
    }
   ],
   "source": [
    "new_data.index[0:-1]"
   ]
  },
  {
   "cell_type": "code",
   "execution_count": null,
   "metadata": {},
   "outputs": [],
   "source": []
  },
  {
   "cell_type": "code",
   "execution_count": 48,
   "metadata": {},
   "outputs": [],
   "source": [
    "#making new column for the day of the week\n",
    "new_data['day'] = new_data.index.weekday\n"
   ]
  },
  {
   "cell_type": "code",
   "execution_count": 66,
   "metadata": {},
   "outputs": [],
   "source": [
    "#getting the customer IDs and save it in a variable\n",
    "cols=new_data.columns[0:-1]"
   ]
  },
  {
   "cell_type": "code",
   "execution_count": 77,
   "metadata": {},
   "outputs": [],
   "source": [
    "#making new Dataframe df\n",
    "df = pd.DataFrame({'Meter ID':range(1000,7445,1),'total KW':np.sum(new_data[cols]).values})"
   ]
  },
  {
   "cell_type": "code",
   "execution_count": 78,
   "metadata": {},
   "outputs": [],
   "source": [
    "#getting the daily average consumption per customer\n",
    "df['daily_avg_consumption']=new_data[cols].mean().values"
   ]
  },
  {
   "cell_type": "code",
   "execution_count": 79,
   "metadata": {},
   "outputs": [],
   "source": [
    "#getting the percentage of consumption on weekdays and storing it in df dataframe\n",
    "df['%_weekday_consumption']=new_data[(new_data['day']!=5)&(new_data['day']!=6)][cols].sum().values/df['total KW']*100"
   ]
  },
  {
   "cell_type": "code",
   "execution_count": 80,
   "metadata": {},
   "outputs": [
    {
     "data": {
      "text/html": [
       "<div>\n",
       "<style scoped>\n",
       "    .dataframe tbody tr th:only-of-type {\n",
       "        vertical-align: middle;\n",
       "    }\n",
       "\n",
       "    .dataframe tbody tr th {\n",
       "        vertical-align: top;\n",
       "    }\n",
       "\n",
       "    .dataframe thead th {\n",
       "        text-align: right;\n",
       "    }\n",
       "</style>\n",
       "<table border=\"1\" class=\"dataframe\">\n",
       "  <thead>\n",
       "    <tr style=\"text-align: right;\">\n",
       "      <th></th>\n",
       "      <th>Meter ID</th>\n",
       "      <th>total KW</th>\n",
       "      <th>daily_avg_consumption</th>\n",
       "      <th>%_weekday_consumption</th>\n",
       "    </tr>\n",
       "  </thead>\n",
       "  <tbody>\n",
       "    <tr>\n",
       "      <th>0</th>\n",
       "      <td>1000</td>\n",
       "      <td>5515.675000</td>\n",
       "      <td>10.290438</td>\n",
       "      <td>70.009926</td>\n",
       "    </tr>\n",
       "    <tr>\n",
       "      <th>1</th>\n",
       "      <td>1001</td>\n",
       "      <td>5090.375000</td>\n",
       "      <td>9.496968</td>\n",
       "      <td>72.241122</td>\n",
       "    </tr>\n",
       "    <tr>\n",
       "      <th>2</th>\n",
       "      <td>1002</td>\n",
       "      <td>5352.830000</td>\n",
       "      <td>9.986623</td>\n",
       "      <td>75.364938</td>\n",
       "    </tr>\n",
       "    <tr>\n",
       "      <th>3</th>\n",
       "      <td>1003</td>\n",
       "      <td>16305.581000</td>\n",
       "      <td>30.420860</td>\n",
       "      <td>71.173342</td>\n",
       "    </tr>\n",
       "    <tr>\n",
       "      <th>4</th>\n",
       "      <td>1004</td>\n",
       "      <td>25326.442000</td>\n",
       "      <td>47.250825</td>\n",
       "      <td>69.775273</td>\n",
       "    </tr>\n",
       "    <tr>\n",
       "      <th>5</th>\n",
       "      <td>1005</td>\n",
       "      <td>16062.905000</td>\n",
       "      <td>29.968106</td>\n",
       "      <td>69.828565</td>\n",
       "    </tr>\n",
       "    <tr>\n",
       "      <th>6</th>\n",
       "      <td>1006</td>\n",
       "      <td>11518.920000</td>\n",
       "      <td>21.490522</td>\n",
       "      <td>71.692034</td>\n",
       "    </tr>\n",
       "    <tr>\n",
       "      <th>7</th>\n",
       "      <td>1007</td>\n",
       "      <td>18745.140277</td>\n",
       "      <td>34.972277</td>\n",
       "      <td>68.333211</td>\n",
       "    </tr>\n",
       "    <tr>\n",
       "      <th>8</th>\n",
       "      <td>1008</td>\n",
       "      <td>18843.172172</td>\n",
       "      <td>35.155172</td>\n",
       "      <td>70.076041</td>\n",
       "    </tr>\n",
       "    <tr>\n",
       "      <th>9</th>\n",
       "      <td>1009</td>\n",
       "      <td>21498.187000</td>\n",
       "      <td>40.108558</td>\n",
       "      <td>70.189496</td>\n",
       "    </tr>\n",
       "  </tbody>\n",
       "</table>\n",
       "</div>"
      ],
      "text/plain": [
       "   Meter ID      total KW  daily_avg_consumption  %_weekday_consumption\n",
       "0      1000   5515.675000              10.290438              70.009926\n",
       "1      1001   5090.375000               9.496968              72.241122\n",
       "2      1002   5352.830000               9.986623              75.364938\n",
       "3      1003  16305.581000              30.420860              71.173342\n",
       "4      1004  25326.442000              47.250825              69.775273\n",
       "5      1005  16062.905000              29.968106              69.828565\n",
       "6      1006  11518.920000              21.490522              71.692034\n",
       "7      1007  18745.140277              34.972277              68.333211\n",
       "8      1008  18843.172172              35.155172              70.076041\n",
       "9      1009  21498.187000              40.108558              70.189496"
      ]
     },
     "execution_count": 80,
     "metadata": {},
     "output_type": "execute_result"
    }
   ],
   "source": [
    "#getting an overview of the df dataframe\n",
    "df.head(10)"
   ]
  },
  {
   "cell_type": "code",
   "execution_count": 81,
   "metadata": {},
   "outputs": [
    {
     "data": {
      "text/plain": [
       "<matplotlib.axes._subplots.AxesSubplot at 0x1a15522ac8>"
      ]
     },
     "execution_count": 81,
     "metadata": {},
     "output_type": "execute_result"
    },
    {
     "data": {
      "image/png": "[encoded data removed]",
      "text/plain": [
       "<Figure size 432x288 with 1 Axes>"
      ]
     },
     "metadata": {},
     "output_type": "display_data"
    }
   ],
   "source": [
    "df.plot()"
   ]
  },
  {
   "cell_type": "code",
   "execution_count": null,
   "metadata": {},
   "outputs": [],
   "source": []
  }
 ],
 "metadata": {
  "kernelspec": {
   "display_name": "Python 3",
   "language": "python",
   "name": "python3"
  },
  "language_info": {
   "codemirror_mode": {
    "name": "ipython",
    "version": 3
   },
   "file_extension": ".py",
   "mimetype": "text/x-python",
   "name": "python",
   "nbconvert_exporter": "python",
   "pygments_lexer": "ipython3",
   "version": "3.6.5"
  }
 },
 "nbformat": 4,
 "nbformat_minor": 2
}
