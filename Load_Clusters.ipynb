{
 "cells": [
  {
   "cell_type": "code",
   "execution_count": 165,
   "metadata": {},
   "outputs": [],
   "source": [
    "import pandas as pd\n",
    "import numpy as np\n",
    "from datetime import datetime\n",
    "from sklearn.cluster import KMeans\n",
    "import matplotlib.pyplot as plt\n",
    "#Importing GaussianMixture to use its built-in BIC function.\n",
    "from sklearn.mixture import GaussianMixture"
   ]
  },
  {
   "cell_type": "code",
   "execution_count": 166,
   "metadata": {},
   "outputs": [
    {
     "data": {
      "text/html": [
       "<div>\n",
       "<style scoped>\n",
       "    .dataframe tbody tr th:only-of-type {\n",
       "        vertical-align: middle;\n",
       "    }\n",
       "\n",
       "    .dataframe tbody tr th {\n",
       "        vertical-align: top;\n",
       "    }\n",
       "\n",
       "    .dataframe thead th {\n",
       "        text-align: right;\n",
       "    }\n",
       "</style>\n",
       "<table border=\"1\" class=\"dataframe\">\n",
       "  <thead>\n",
       "    <tr style=\"text-align: right;\">\n",
       "      <th></th>\n",
       "      <th>Meter ID</th>\n",
       "      <th>total daily KW</th>\n",
       "    </tr>\n",
       "    <tr>\n",
       "      <th>date</th>\n",
       "      <th></th>\n",
       "      <th></th>\n",
       "    </tr>\n",
       "  </thead>\n",
       "  <tbody>\n",
       "    <tr>\n",
       "      <th>2009-07-14</th>\n",
       "      <td>1000</td>\n",
       "      <td>11.203</td>\n",
       "    </tr>\n",
       "    <tr>\n",
       "      <th>2009-07-15</th>\n",
       "      <td>1000</td>\n",
       "      <td>8.403</td>\n",
       "    </tr>\n",
       "    <tr>\n",
       "      <th>2009-07-16</th>\n",
       "      <td>1000</td>\n",
       "      <td>7.225</td>\n",
       "    </tr>\n",
       "    <tr>\n",
       "      <th>2009-07-17</th>\n",
       "      <td>1000</td>\n",
       "      <td>11.338</td>\n",
       "    </tr>\n",
       "    <tr>\n",
       "      <th>2009-07-18</th>\n",
       "      <td>1000</td>\n",
       "      <td>11.306</td>\n",
       "    </tr>\n",
       "  </tbody>\n",
       "</table>\n",
       "</div>"
      ],
      "text/plain": [
       "            Meter ID  total daily KW\n",
       "date                                \n",
       "2009-07-14      1000          11.203\n",
       "2009-07-15      1000           8.403\n",
       "2009-07-16      1000           7.225\n",
       "2009-07-17      1000          11.338\n",
       "2009-07-18      1000          11.306"
      ]
     },
     "execution_count": 166,
     "metadata": {},
     "output_type": "execute_result"
    }
   ],
   "source": [
    "#dfelectricalUsage = pd.read_csv(\"daily_electricity_usage 2.csv\",parse_dates=thedate)\n",
    "#dfelectricalUsage.count()\n",
    "\n",
    "dfElectricalUsage = pd.read_csv('daily_electricity_usage.csv', index_col=1, parse_dates=True)\n",
    "dfElectricalUsage.head()\n"
   ]
  },
  {
   "cell_type": "markdown",
   "metadata": {},
   "source": [
    "## Cleaning data"
   ]
  },
  {
   "cell_type": "code",
   "execution_count": null,
   "metadata": {},
   "outputs": [
    {
     "name": "stderr",
     "output_type": "stream",
     "text": [
      "/Users/funkyapps/anaconda3/lib/python3.7/site-packages/ipykernel_launcher.py:14: FutureWarning: \n",
      "Passing list-likes to .loc or [] with any missing label will raise\n",
      "KeyError in the future, you can use .reindex() as an alternative.\n",
      "\n",
      "See the documentation here:\n",
      "https://pandas.pydata.org/pandas-docs/stable/indexing.html#deprecate-loc-reindex-listlike\n",
      "  \n",
      "/Users/funkyapps/anaconda3/lib/python3.7/site-packages/ipykernel_launcher.py:17: SettingWithCopyWarning: \n",
      "A value is trying to be set on a copy of a slice from a DataFrame.\n",
      "Try using .loc[row_indexer,col_indexer] = value instead\n",
      "\n",
      "See the caveats in the documentation: http://pandas.pydata.org/pandas-docs/stable/indexing.html#indexing-view-versus-copy\n",
      "/Users/funkyapps/anaconda3/lib/python3.7/site-packages/pandas/core/generic.py:5434: SettingWithCopyWarning: \n",
      "A value is trying to be set on a copy of a slice from a DataFrame\n",
      "\n",
      "See the caveats in the documentation: http://pandas.pydata.org/pandas-docs/stable/indexing.html#indexing-view-versus-copy\n",
      "  self._update_inplace(new_data)\n"
     ]
    }
   ],
   "source": [
    "min_date = dfElectricalUsage.index.min() \n",
    "max_date = dfElectricalUsage.index.max()\n",
    "\n",
    "period = pd.date_range(min_date, max_date) #Date range from first to last date.\n",
    "meter_ids = dfElectricalUsage['Meter ID'].unique() #Getting the meter ids.\n",
    "\n",
    "for meter_id in meter_ids:\n",
    "    if len(dfElectricalUsage[dfElectricalUsage['Meter ID'] == meter_id]) == 536: #If a meter id has all the dates, we skip it.\n",
    "        continue\n",
    "        \n",
    "    #print(meter_id) #Printing meter ids that need to be filled.\n",
    "    \n",
    "    ind = dfElectricalUsage['Meter ID'] == meter_id\n",
    "    dfElectricalUsage[ind] = dfElectricalUsage[ind].loc[period]\n",
    "    \n",
    "    #First fill meter ids. Using ffill AND bfill in case first or last date is missing.\n",
    "    dfElectricalUsage[ind]['Meter ID'] = dfElectricalUsage[ind]['Meter ID'].ffill().bfill()\n",
    "    #Filling the missing values with the mean.    \n",
    "    dfElectricalUsage[ind]['total daily KW'].fillna(dfElectricalUsage[ind].mean()[1], inplace = True)"
   ]
  },
  {
   "cell_type": "code",
   "execution_count": null,
   "metadata": {
    "scrolled": true
   },
   "outputs": [],
   "source": [
    "#print(dfelectricalUsage.head())  \n",
    "#setting date column as index column for better lookupolloøopøløolopoplpø--\n",
    "\n",
    "#print(dfelectricalUsage.tail())\n",
    "#print(dfelectricalUsage.count())\n",
    "#print(dfelectricalUsage.dtypes)"
   ]
  },
  {
   "cell_type": "code",
   "execution_count": null,
   "metadata": {
    "scrolled": true
   },
   "outputs": [],
   "source": [
    "#dfelectricalUsage.drop_duplicates()   -- there are no duplicates"
   ]
  },
  {
   "cell_type": "code",
   "execution_count": null,
   "metadata": {
    "scrolled": true
   },
   "outputs": [],
   "source": [
    "df = dfElectricalUsage.groupby('Meter ID').nunique()\n",
    "print(\"Total # of cunsumers\", df.count())"
   ]
  },
  {
   "cell_type": "markdown",
   "metadata": {},
   "source": [
    "## Adding calender features to dataset ##"
   ]
  },
  {
   "cell_type": "code",
   "execution_count": null,
   "metadata": {},
   "outputs": [],
   "source": [
    "from datetime import date\n",
    "import calendar\n",
    "my_date = date.today()\n",
    "calendar.day_name[my_date.weekday()]"
   ]
  },
  {
   "cell_type": "code",
   "execution_count": null,
   "metadata": {
    "scrolled": true
   },
   "outputs": [],
   "source": [
    "column_1 = dfElectricalUsage.iloc[:,0]\n",
    "column_1\n",
    "#Tried using next line since index_col was changed to 'date'.\n",
    "#column_1 = dfElectricalUsage.reset_index().set_index('Meter ID').iloc[:,0]\n",
    "dfElectricalUsage\n",
    "\n",
    "dfElectricalUsage = pd.DataFrame({\"date\":dfElectricalUsage.index,\n",
    "                               \"year\": dfElectricalUsage.index.year,\n",
    "                               \"month\": dfElectricalUsage.index.month,\n",
    "                               \"day\": dfElectricalUsage.index.day,\n",
    "                               \"dayofyear\": dfElectricalUsage.index.dayofyear,\n",
    "                               \"weekofyear\": dfElectricalUsage.index.weekofyear,\n",
    "                               \"weekday\": dfElectricalUsage.index.weekday,\n",
    "                               \"quarter\": dfElectricalUsage.index.quarter,\n",
    "                               \"DailyUsage\": dfElectricalUsage['total daily KW'],\n",
    "                               \"Meter ID\": dfElectricalUsage['Meter ID']})\n",
    "\n",
    "print(dfElectricalUsage.head())"
   ]
  },
  {
   "cell_type": "code",
   "execution_count": null,
   "metadata": {},
   "outputs": [],
   "source": [
    "from pandas.tseries.holiday import USFederalHolidayCalendar as calendar\n",
    "cal = calendar()\n",
    "holidays = cal.holidays(start='2009-07-14', end='2010-10-17')\n",
    "dfElectricalUsage['Holiday'] = dfElectricalUsage.index.isin(holidays)\n",
    "dfElectricalUsageOnlyHoliday = dfElectricalUsage[dfElectricalUsage['Holiday']== True]\n",
    "print(dfElectricalUsageOnlyHoliday)"
   ]
  },
  {
   "cell_type": "markdown",
   "metadata": {
    "collapsed": true
   },
   "source": [
    "**Segementation code** "
   ]
  },
  {
   "cell_type": "code",
   "execution_count": null,
   "metadata": {
    "scrolled": true
   },
   "outputs": [],
   "source": [
    "#daily Average per user\n",
    "dfElectricalUsage.head()\n",
    "dfUserGroup = dfElectricalUsage.groupby('Meter ID')['DailyUsage'].mean().reset_index(name='DailyAvgPerUser')\n",
    "\n",
    "#Quarterly Average per user\n",
    "dfUserGroup2 = dfElectricalUsage.groupby(['Meter ID','quarter'])['DailyUsage'].mean().reset_index(name='qtlylyAvgPerUser')\n",
    "\n",
    "# Weekday Average per user\n",
    "dfUserGroup3 = dfElectricalUsage.groupby(['Meter ID','weekday'])['DailyUsage'].mean().reset_index(name='weekdayAvgPerUser')\n",
    "#dfUserGroup4 = dfElectricalUsage.groupby(['Meter ID','weekday'])['DailyUsage'].mean().reset_index(name='weekdayAvgPerUser')\n",
    "#dfUserGroup5 = dfElectricalUsage.groupby(['Meter ID','weekday'])\n",
    "#dfUserGroup6= dfUserGroup5[dfUserGroup5['weekday'] == 5 or dfUserGroup5['weekday'] == 6]\n",
    "\n",
    "# Merging groups to one dataframe\n",
    "dfElectricityUsage1 = pd.merge(dfUserGroup,dfUserGroup2,on='Meter ID')\n",
    "dfElectricityUsage = pd.merge(dfElectricityUsage1,dfUserGroup3,on='Meter ID')\n",
    "dfElectricityUsage\n"
   ]
  },
  {
   "cell_type": "markdown",
   "metadata": {},
   "source": [
    "**K-Means Clustering**\n"
   ]
  },
  {
   "cell_type": "code",
   "execution_count": null,
   "metadata": {},
   "outputs": [],
   "source": [
    "features = dfUserGroup.iloc[:, 1:]\n",
    "\n",
    "SSE = {}\n",
    "for k in range(1, 15):\n",
    "    model = KMeans(n_clusters = k).fit(features)\n",
    "    #features[\"clusters\"] = model.labels_\n",
    "    SSE[k] = model.inertia_ # Inertia: Sum of distances of samples to their closest cluster center\n",
    "    \n",
    "plt.figure(figsize = (12,6))\n",
    "plt.plot(list(SSE.keys()), list(SSE.values()))\n",
    "plt.xlabel(\"Number of Clusters\")\n",
    "plt.ylabel(\"Sum of Squared Errors\")\n",
    "plt.show()"
   ]
  },
  {
   "cell_type": "code",
   "execution_count": null,
   "metadata": {},
   "outputs": [],
   "source": [
    "BIC = {}\n",
    "\n",
    "for k in range(1, 15):\n",
    "    model = GaussianMixture(n_components = k, init_params = 'kmeans').fit(features)\n",
    "    BIC[k] = model.bic(features)\n",
    "\n",
    "plt.figure(figsize = (12,6))\n",
    "plt.plot(list(BIC.keys()), list(BIC.values()))\n",
    "plt.xlabel(\"Number of Clusters\")\n",
    "plt.ylabel(\"Bayessian Information Criterion\")\n",
    "plt.show()"
   ]
  },
  {
   "cell_type": "code",
   "execution_count": 164,
   "metadata": {},
   "outputs": [
    {
     "name": "stdout",
     "output_type": "stream",
     "text": [
      "   DailyAvgPerUser  Cluster\n",
      "0        10.290438        0\n",
      "1         9.496968        0\n",
      "2         9.986623        0\n",
      "3        30.420860        0\n",
      "4        47.250825        0\n"
     ]
    },
    {
     "data": {
      "text/plain": [
       "0    6155\n",
       "2     242\n",
       "1      38\n",
       "Name: Cluster, dtype: int64"
      ]
     },
     "execution_count": 164,
     "metadata": {},
     "output_type": "execute_result"
    }
   ],
   "source": [
    "k_means = KMeans(n_clusters = 3).fit(features) #Using 3 clusters, change this after adding more features.\n",
    "features['Cluster'] = k_means.fit_predict(features)\n",
    "print(features.head())\n",
    "features.Cluster.value_counts()\n"
   ]
  },
  {
   "cell_type": "code",
   "execution_count": null,
   "metadata": {},
   "outputs": [],
   "source": []
  }
 ],
 "metadata": {
  "kernelspec": {
   "display_name": "Python 3",
   "language": "python",
   "name": "python3"
  },
  "language_info": {
   "codemirror_mode": {
    "name": "ipython",
    "version": 3
   },
   "file_extension": ".py",
   "mimetype": "text/x-python",
   "name": "python",
   "nbconvert_exporter": "python",
   "pygments_lexer": "ipython3",
   "version": "3.7.0"
  }
 },
 "nbformat": 4,
 "nbformat_minor": 2
}
