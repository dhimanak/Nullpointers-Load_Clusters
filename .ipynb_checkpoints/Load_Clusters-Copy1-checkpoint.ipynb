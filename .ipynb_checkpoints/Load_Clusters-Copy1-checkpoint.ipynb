{
 "cells": [
  {
   "cell_type": "code",
   "execution_count": 1,
   "metadata": {},
   "outputs": [],
   "source": [
    "import pandas as pd\n",
    "import numpy as np\n",
    "from datetime import datetime\n",
    "from sklearn.cluster import KMeans\n",
    "import matplotlib.pyplot as plt\n",
    "#Importing GaussianMixture to use its built-in BIC function.\n",
    "from sklearn.mixture import GaussianMixture"
   ]
  },
  {
   "cell_type": "code",
   "execution_count": null,
   "metadata": {},
   "outputs": [
    {
     "data": {
      "text/html": [
       "<div>\n",
       "<style scoped>\n",
       "    .dataframe tbody tr th:only-of-type {\n",
       "        vertical-align: middle;\n",
       "    }\n",
       "\n",
       "    .dataframe tbody tr th {\n",
       "        vertical-align: top;\n",
       "    }\n",
       "\n",
       "    .dataframe thead th {\n",
       "        text-align: right;\n",
       "    }\n",
       "</style>\n",
       "<table border=\"1\" class=\"dataframe\">\n",
       "  <thead>\n",
       "    <tr style=\"text-align: right;\">\n",
       "      <th></th>\n",
       "      <th>Meter ID</th>\n",
       "      <th>total daily KW</th>\n",
       "    </tr>\n",
       "    <tr>\n",
       "      <th>date</th>\n",
       "      <th></th>\n",
       "      <th></th>\n",
       "    </tr>\n",
       "  </thead>\n",
       "  <tbody>\n",
       "    <tr>\n",
       "      <th>2009-07-14</th>\n",
       "      <td>1000</td>\n",
       "      <td>11.203</td>\n",
       "    </tr>\n",
       "    <tr>\n",
       "      <th>2009-07-15</th>\n",
       "      <td>1000</td>\n",
       "      <td>8.403</td>\n",
       "    </tr>\n",
       "    <tr>\n",
       "      <th>2009-07-16</th>\n",
       "      <td>1000</td>\n",
       "      <td>7.225</td>\n",
       "    </tr>\n",
       "    <tr>\n",
       "      <th>2009-07-17</th>\n",
       "      <td>1000</td>\n",
       "      <td>11.338</td>\n",
       "    </tr>\n",
       "    <tr>\n",
       "      <th>2009-07-18</th>\n",
       "      <td>1000</td>\n",
       "      <td>11.306</td>\n",
       "    </tr>\n",
       "  </tbody>\n",
       "</table>\n",
       "</div>"
      ],
      "text/plain": [
       "            Meter ID  total daily KW\n",
       "date                                \n",
       "2009-07-14      1000          11.203\n",
       "2009-07-15      1000           8.403\n",
       "2009-07-16      1000           7.225\n",
       "2009-07-17      1000          11.338\n",
       "2009-07-18      1000          11.306"
      ]
     },
     "execution_count": 2,
     "metadata": {},
     "output_type": "execute_result"
    }
   ],
   "source": [
    "#dfelectricalUsage = pd.read_csv(\"daily_electricity_usage 2.csv\",parse_dates=thedate)\n",
    "#dfelectricalUsage.count()\n",
    "\n",
    "dfElectricalUsage = pd.read_csv('daily_electricity_usage.csv', index_col=1, parse_dates=True)\n",
    "dfElectricalUsage.head()\n"
   ]
  },
  {
   "cell_type": "markdown",
   "metadata": {},
   "source": [
    "## Cleaning data"
   ]
  },
  {
   "cell_type": "code",
   "execution_count": null,
   "metadata": {},
   "outputs": [
    {
     "name": "stderr",
     "output_type": "stream",
     "text": [
      "/Users/alexanthony/anaconda3/lib/python3.6/site-packages/ipykernel_launcher.py:14: FutureWarning: \n",
      "Passing list-likes to .loc or [] with any missing label will raise\n",
      "KeyError in the future, you can use .reindex() as an alternative.\n",
      "\n",
      "See the documentation here:\n",
      "https://pandas.pydata.org/pandas-docs/stable/indexing.html#deprecate-loc-reindex-listlike\n",
      "  \n",
      "/Users/alexanthony/anaconda3/lib/python3.6/site-packages/ipykernel_launcher.py:17: SettingWithCopyWarning: \n",
      "A value is trying to be set on a copy of a slice from a DataFrame.\n",
      "Try using .loc[row_indexer,col_indexer] = value instead\n",
      "\n",
      "See the caveats in the documentation: http://pandas.pydata.org/pandas-docs/stable/indexing.html#indexing-view-versus-copy\n",
      "/Users/alexanthony/anaconda3/lib/python3.6/site-packages/pandas/core/generic.py:5434: SettingWithCopyWarning: \n",
      "A value is trying to be set on a copy of a slice from a DataFrame\n",
      "\n",
      "See the caveats in the documentation: http://pandas.pydata.org/pandas-docs/stable/indexing.html#indexing-view-versus-copy\n",
      "  self._update_inplace(new_data)\n"
     ]
    }
   ],
   "source": [
    "min_date = dfElectricalUsage.index.min() \n",
    "max_date = dfElectricalUsage.index.max()\n",
    "\n",
    "period = pd.date_range(min_date, max_date) #Date range from first to last date.\n",
    "meter_ids = dfElectricalUsage['Meter ID'].unique() #Getting the meter ids.\n",
    "\n",
    "for meter_id in meter_ids:\n",
    "    if len(dfElectricalUsage[dfElectricalUsage['Meter ID'] == meter_id]) == 536: #If a meter id has all the dates, we skip it.\n",
    "        continue\n",
    "        \n",
    "    #print(meter_id) #Printing meter ids that need to be filled.\n",
    "    \n",
    "    ind = dfElectricalUsage['Meter ID'] == meter_id\n",
    "    dfElectricalUsage[ind] = dfElectricalUsage[ind].loc[period]\n",
    "    \n",
    "    #First fill meter ids. Using ffill AND bfill in case first or last date is missing.\n",
    "    dfElectricalUsage[ind]['Meter ID'] = dfElectricalUsage[ind]['Meter ID'].ffill().bfill()\n",
    "    #Filling the missing values with the mean.    \n",
    "    dfElectricalUsage[ind]['total daily KW'].fillna(dfElectricalUsage[ind].mean()[1], inplace = True)"
   ]
  },
  {
   "cell_type": "code",
   "execution_count": null,
   "metadata": {
    "scrolled": true
   },
   "outputs": [],
   "source": [
    "#print(dfelectricalUsage.head())  \n",
    "#setting date column as index column for better lookupolloøopøløolopoplpø--\n",
    "\n",
    "#print(dfelectricalUsage.tail())\n",
    "#print(dfelectricalUsage.count())\n",
    "#print(dfelectricalUsage.dtypes)"
   ]
  },
  {
   "cell_type": "code",
   "execution_count": null,
   "metadata": {
    "scrolled": true
   },
   "outputs": [],
   "source": [
    "#dfelectricalUsage.drop_duplicates()   -- there are no duplicates"
   ]
  },
  {
   "cell_type": "code",
   "execution_count": null,
   "metadata": {
    "scrolled": true
   },
   "outputs": [],
   "source": [
    "df = dfElectricalUsage.groupby('Meter ID').nunique()\n",
    "print(\"Total # of cunsumers\", df.count())"
   ]
  },
  {
   "cell_type": "markdown",
   "metadata": {},
   "source": [
    "## Adding calender features to dataset ##"
   ]
  },
  {
   "cell_type": "code",
   "execution_count": null,
   "metadata": {},
   "outputs": [],
   "source": [
    "from datetime import date\n",
    "import calendar\n",
    "my_date = date.today()\n",
    "calendar.day_name[my_date.weekday()]"
   ]
  },
  {
   "cell_type": "code",
   "execution_count": null,
   "metadata": {
    "scrolled": true
   },
   "outputs": [],
   "source": [
    "column_1 = dfElectricalUsage.iloc[:,0]\n",
    "column_1\n",
    "#Tried using next line since index_col was changed to 'date'.\n",
    "#column_1 = dfElectricalUsage.reset_index().set_index('Meter ID').iloc[:,0]\n",
    "dfElectricalUsage\n",
    "\n",
    "dfElectricalUsage = pd.DataFrame({\"date\":dfElectricalUsage.index,\n",
    "                               \"year\": dfElectricalUsage.index.year,\n",
    "                               \"month\": dfElectricalUsage.index.month,\n",
    "                               \"day\": dfElectricalUsage.index.day,\n",
    "                               \"dayofyear\": dfElectricalUsage.index.dayofyear,\n",
    "                               \"weekofyear\": dfElectricalUsage.index.weekofyear,\n",
    "                               \"weekday\": dfElectricalUsage.index.weekday,\n",
    "                               \"quarter\": dfElectricalUsage.index.quarter,\n",
    "                               \"DailyUsage\": dfElectricalUsage['total daily KW'],\n",
    "                               \"Meter ID\": dfElectricalUsage['Meter ID']})\n",
    "\n",
    "print(dfElectricalUsage.head())"
   ]
  },
  {
   "cell_type": "code",
   "execution_count": null,
   "metadata": {},
   "outputs": [],
   "source": [
    "from pandas.tseries.holiday import USFederalHolidayCalendar as calendar\n",
    "cal = calendar()\n",
    "holidays = cal.holidays(start='2009-07-14', end='2010-10-17')\n",
    "dfElectricalUsage['Holiday'] = dfElectricalUsage.index.isin(holidays)\n",
    "dfElectricalUsageOnlyHoliday = dfElectricalUsage[dfElectricalUsage['Holiday']== True]\n",
    "print(dfElectricalUsageOnlyHoliday)"
   ]
  },
  {
   "cell_type": "markdown",
   "metadata": {
    "collapsed": true
   },
   "source": [
    "**Segementation code** "
   ]
  },
  {
   "cell_type": "code",
   "execution_count": null,
   "metadata": {
    "scrolled": true
   },
   "outputs": [],
   "source": [
    "#daily Average per user\n",
    "dfElectricalUsage.head()\n",
    "dfUserGroup = dfElectricalUsage.groupby('Meter ID')['DailyUsage'].mean().reset_index(name='DailyAvgPerUser')\n",
    "\n",
    "#Quarterly Average per user\n",
    "qtly_avg_cols = ['Meter ID', 'Q1Avg', 'Q2Avg', 'Q3Avg', 'Q4Avg']\n",
    "dfUserGroup2 = dfElectricalUsage.groupby(['Meter ID','quarter'])['DailyUsage'].mean().reset_index(name='qtlylyAvg')\n",
    "dfUserGroup2 = dfUserGroup2.pivot(index = 'Meter ID', columns = 'quarter')['qtlylyAvg'].reset_index()\n",
    "dfUserGroup2.columns = qtly_avg_cols\n",
    "\n",
    "# Weekday Average per user\n",
    "weekday_avg_cols = ['Meter ID', 'MonAvg', 'TueAvg', 'WedAvg', 'ThursAvg','FriAvg','SatAvg','SunAvg']\n",
    "dfUserGroup3 = dfElectricalUsage.groupby(['Meter ID','weekday'])['DailyUsage'].mean().reset_index(name='weekdayAvg')\n",
    "dfUserGroup3 = dfUserGroup3.pivot(index = 'Meter ID', columns = 'weekday')['weekdayAvg'].reset_index()\n",
    "dfUserGroup3.columns = weekday_avg_cols\n",
    "#Monthly average per user\n",
    "month_avg_cols = ['Meter ID', 'janAvg', 'febAvg', 'marAvg', 'aprAvg', 'mayAvg', 'junAvg', 'julAvg', 'augAvg', 'sepAvg', 'octAvg', 'novAvg', 'desAvg']\n",
    "dfUserGroup4 = dfElectricalUsage.groupby(['Meter ID', 'month'])['DailyUsage'].mean().reset_index(name='monthlyAverage')\n",
    "dfUserGroup4 = dfUserGroup4.pivot(index = 'Meter ID', columns = 'month')['monthlyAverage'].reset_index()\n",
    "dfUserGroup4.columns = month_avg_cols\n",
    "\n",
    "\n",
    "\n",
    "# Merging groups to one dataframe\n",
    "dfElectricityUsage1 = pd.merge(dfUserGroup,dfUserGroup2,on='Meter ID')\n",
    "dfElectricityUsage2 = pd.merge(dfElectricityUsage1,dfUserGroup3,on='Meter ID')\n",
    "dfElectricityUsage = pd.merge(dfElectricityUsage2,dfUserGroup4,on='Meter ID')\n",
    "dfElectricityUsage\n"
   ]
  },
  {
   "cell_type": "markdown",
   "metadata": {},
   "source": [
    "**K-Means Clustering**\n"
   ]
  },
  {
   "cell_type": "code",
   "execution_count": null,
   "metadata": {},
   "outputs": [],
   "source": [
    "features = dfUserGroup.iloc[:, 1:]\n",
    "\n",
    "SSE = {}\n",
    "for k in range(1, 15):\n",
    "    model = KMeans(n_clusters = k).fit(features)\n",
    "    #features[\"clusters\"] = model.labels_\n",
    "    SSE[k] = model.inertia_ # Inertia: Sum of distances of samples to their closest cluster center\n",
    "    \n",
    "plt.figure(figsize = (12,6))\n",
    "plt.plot(list(SSE.keys()), list(SSE.values()))\n",
    "plt.xlabel(\"Number of Clusters\")\n",
    "plt.ylabel(\"Sum of Squared Errors\")\n",
    "plt.show()"
   ]
  },
  {
   "cell_type": "code",
   "execution_count": null,
   "metadata": {},
   "outputs": [],
   "source": [
    "BIC = {}\n",
    "\n",
    "for k in range(1, 15):\n",
    "    model = GaussianMixture(n_components = k, init_params = 'kmeans').fit(features)\n",
    "    BIC[k] = model.bic(features)\n",
    "\n",
    "plt.figure(figsize = (12,6))\n",
    "plt.plot(list(BIC.keys()), list(BIC.values()))\n",
    "plt.xlabel(\"Number of Clusters\")\n",
    "plt.ylabel(\"Bayessian Information Criterion\")\n",
    "plt.show()"
   ]
  },
  {
   "cell_type": "code",
   "execution_count": null,
   "metadata": {},
   "outputs": [],
   "source": [
    "k_means = KMeans(n_clusters = 3).fit(features) #Using 3 clusters, change this after adding more features.\n",
    "features['Cluster'] = k_means.fit_predict(features)\n",
    "print(features.head())\n",
    "features.Cluster.value_counts()\n"
   ]
  },
  {
   "cell_type": "markdown",
   "metadata": {},
   "source": [
    "## FBProphet Time Series Prediction ##"
   ]
  },
  {
   "cell_type": "code",
   "execution_count": null,
   "metadata": {},
   "outputs": [],
   "source": [
    "# Adding cluster as a column to original dataset \n",
    "dfElectricityUsage['cluster']=features['Cluster']\n",
    "\n",
    "\n",
    "#finding mean grouped by clsuter to show the variation of usage between clusters\n",
    "print(dfElectricityUsage[dfElectricityUsage.columns[1:]].groupby(['cluster']).agg([np.mean]))\n",
    "\n",
    "\n",
    "dfNew = dfElectricityUsage\n",
    "dfElectricityUsage.set_index('Meter ID')\n",
    "dfElectricityUsage.set_index('Meter ID')\n",
    "# Merging our original dataset to the processed one , so that we get all features and cluster for the Meter ID\n",
    "dfNew =dfElectricalUsage.merge(dfElectricityUsage , how ='inner')\n",
    "\n",
    "#making seperate datagrame for each cluster\n",
    "col_list = ['date','DailyUsage']\n",
    "dfUserGroupClus1 = dfNew[(dfNew['cluster']==0)]\n",
    "dfUserGroupClus1 = dfUserGroupClus1[col_list]\n",
    "dfUserGroupClus1.columns=['ds','y']\n",
    "dfUserGroupClus2 = dfNew[(dfNew['cluster']==1)]\n",
    "dfUserGroupClus2 = dfUserGroupClus2[col_list]\n",
    "dfUserGroupClus2.columns=['ds','y']\n",
    "dfUserGroupClus3 = dfNew[(dfNew['cluster']==2)]\n",
    "dfUserGroupClus3 = dfUserGroupClus3[col_list]\n",
    "dfUserGroupClus3.columns=['ds','y']\n",
    "\n"
   ]
  },
  {
   "cell_type": "code",
   "execution_count": null,
   "metadata": {},
   "outputs": [],
   "source": [
    "def plot_data(data_forc):\n",
    "    timeseries=data_forc.copy()\n",
    "    timeseries.columns=['date','Total Daily KW']\n",
    "    timeseries = timeseries.set_index('date') \n",
    "    fig, ax = plt.subplots(figsize=(8, 6))\n",
    "    plt.scatter(timeseries.index,timeseries['Total Daily KW'],c='blue',s=2)"
   ]
  },
  {
   "cell_type": "code",
   "execution_count": null,
   "metadata": {},
   "outputs": [],
   "source": [
    "import fbprophet\n",
    "from sklearn.metrics import mean_squared_error, r2_score\n",
    "def predic_fbp(data_forc,n_days):\n",
    "    model = fbprophet.Prophet(daily_seasonality=False,weekly_seasonality=True,\n",
    "                yearly_seasonality=True,changepoint_prior_scale=0.05,changepoints=None,interval_width=0.95)\n",
    "    model.add_seasonality(name='monthly',period=30.5,fourier_order=5)\n",
    "    size = len(data_forc) - n_days\n",
    "    train, test = data_forc[0:size], data_forc[size:]\n",
    "    test_=test.set_index('ds')\n",
    "    model.fit(train)\n",
    "    predics=model.predict(data_forc)\n",
    "    test=pd.merge(test,predics[['ds','yhat','yhat_lower','yhat_upper']],how='left',on='ds')\n",
    "    train=pd.merge(train,predics[['ds','yhat','yhat_lower','yhat_upper']],how='left',on='ds')\n",
    "    RMSE=np.sqrt(mean_squared_error(test['y'], test['yhat']))\n",
    "    print('RMSE = %.2f' % RMSE)\n",
    "    R2=r2_score(test['y'], test['yhat'])\n",
    "    print('R Square = %.2f'% R2)\n",
    "    future = model.make_future_dataframe(periods=365+n_days, freq='D')\n",
    "    future=model.predict(future)\n",
    "    fig=model.plot(predics)\n",
    "    plt.scatter(test_.index,test_['y'],c='black',s=7)\n",
    "    fig2=model.plot(future)\n",
    "    plt.scatter(test_.index,test_['y'],c='black',s=7)\n",
    "    fig3=model.plot_components(future)\n",
    "    return(train,test,predics,future,RMSE,R2)"
   ]
  },
  {
   "cell_type": "code",
   "execution_count": null,
   "metadata": {},
   "outputs": [],
   "source": [
    "plot_data(dfUserGroupClus1)"
   ]
  },
  {
   "cell_type": "code",
   "execution_count": null,
   "metadata": {},
   "outputs": [],
   "source": [
    "plot_data(dfUserGroupClus2)"
   ]
  },
  {
   "cell_type": "code",
   "execution_count": null,
   "metadata": {},
   "outputs": [],
   "source": [
    "plot_data(dfUserGroupClus3)"
   ]
  },
  {
   "cell_type": "code",
   "execution_count": null,
   "metadata": {},
   "outputs": [],
   "source": [
    "# Actual Prediction \n",
    "train_0,test_0,predics_0,future_0,RMSE_0,R2_0=predic_fbp(dfUserGroupClus1,90)"
   ]
  }
 ],
 "metadata": {
  "kernelspec": {
   "display_name": "Python 3",
   "language": "python",
   "name": "python3"
  },
  "language_info": {
   "codemirror_mode": {
    "name": "ipython",
    "version": 3
   },
   "file_extension": ".py",
   "mimetype": "text/x-python",
   "name": "python",
   "nbconvert_exporter": "python",
   "pygments_lexer": "ipython3",
   "version": "3.6.6"
  }
 },
 "nbformat": 4,
 "nbformat_minor": 2
}
